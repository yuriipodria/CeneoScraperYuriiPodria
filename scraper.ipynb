{
 "cells": [
  {
   "attachments": {},
   "cell_type": "markdown",
   "metadata": {},
   "source": [
    "# Ceneo scraper"
   ]
  },
  {
   "attachments": {},
   "cell_type": "markdown",
   "metadata": {},
   "source": [
    "## Components of single opinion\n",
    "|Component|Selector|Variable|\n",
    "|---------|--------|--------|\n",
    "| opinion ID | [\"data-entry-id\"] | opinion_id |\n",
    "| opinion’s author | span.user-post__author-name | author |\n",
    "| author’s recommendation | span.user-post__author-recomendation > em | recommendation |\n",
    "| score expressed in number of stars | span.user-post__score-count | score |\n",
    "| opinion’s content | div.user-post__text | content |\n",
    "| list of product advantages | div.review-feature__title--positives ~ div.review-feature__item | pros |\n",
    "| list of product disadvantages | div.review-feature__title--negatives ~ div.review-feature__item | cons |\n",
    "| how many users think that opinion was helpful | span[vote-yes^=\"votes-yes\"] | helpful |\n",
    "| how many users think that opinion was unhelpful | span[vote-no^=\"votes-no\"] | unhelpful |\n",
    "| publishing date | span.user-post__published > time:nth-child(1) | publish_date |\n",
    "| purchase date | span.user-post__published > time:nth-child(2) | purchase_date |"
   ]
  },
  {
   "attachments": {},
   "cell_type": "markdown",
   "metadata": {},
   "source": [
    "## Loading libraries "
   ]
  },
  {
   "cell_type": "code",
   "execution_count": 17,
   "metadata": {},
   "outputs": [],
   "source": [
    "import os\n",
    "import json\n",
    "import requests\n",
    "from bs4 import BeautifulSoup\n",
    "from deep_translator import  GoogleTranslator\n",
    "from fake_useragent import UserAgent"
   ]
  },
  {
   "attachments": {},
   "cell_type": "markdown",
   "metadata": {},
   "source": [
    "## Function to extract data from HTML code"
   ]
  },
  {
   "cell_type": "code",
   "execution_count": 18,
   "metadata": {},
   "outputs": [],
   "source": [
    "def extract(ancestor, selector, attribute=None, return_list=False):\n",
    "    if return_list:\n",
    "        if attribute:\n",
    "            return [tag[attribute] for tag in ancestor.select(selector)]\n",
    "        return [tag.get_text().strip() for tag in ancestor.select(selector)]\n",
    "\n",
    "    if selector:\n",
    "        if attribute:\n",
    "            try:\n",
    "                return ancestor.select_one(selector)[attribute]\n",
    "            except TypeError:\n",
    "                return None\n",
    "        try:\n",
    "            return ancestor.select_one(selector).get_text().strip()\n",
    "        except AttributeError:\n",
    "            return None\n",
    "    \n",
    "    if attribute:\n",
    "        return ancestor[attribute]\n",
    "    return ancestor.get_text().strip()"
   ]
  },
  {
   "cell_type": "markdown",
   "metadata": {},
   "source": [
    "## Transformation functions"
   ]
  },
  {
   "cell_type": "code",
   "execution_count": 19,
   "metadata": {},
   "outputs": [],
   "source": [
    "def rate(score):\n",
    "    rate = score.split(\"/\")\n",
    "    return float(rate[0].replace(\",\",\".\"))/float(rate[1])\n",
    "def recommend(recommendation):\n",
    "    return True if recommendation == \"Polecam\" else False if recommendation == \"Nie polecam\" else None"
   ]
  },
  {
   "cell_type": "markdown",
   "metadata": {},
   "source": [
    "## Translation"
   ]
  },
  {
   "cell_type": "code",
   "execution_count": 20,
   "metadata": {},
   "outputs": [],
   "source": [
    "def translate(text, from_lang = \"pl\", to_lang = \"en\"):\n",
    "    if text:\n",
    "        if isinstance(text, list):\n",
    "            return [GoogleTranslator(source=from_lang, target=to_lang).translate(t) for t in text]\n",
    "        return GoogleTranslator(source=from_lang, target=to_lang).translate(text)\n",
    "    return None"
   ]
  },
  {
   "attachments": {},
   "cell_type": "markdown",
   "metadata": {},
   "source": [
    "## Structure of single opinion"
   ]
  },
  {
   "cell_type": "code",
   "execution_count": 21,
   "metadata": {},
   "outputs": [],
   "source": [
    "selectors = {\n",
    "    \"opinion_id\": [None, \"data-entry-id\"],\n",
    "    \"author\": [\"span.user-post__author-name\"],\n",
    "    \"recommendation\": [\"span.user-post__author-recomendation > em\"],\n",
    "    \"score\": [\"span.user-post__score-count\"],\n",
    "    \"content\": [\"div.user-post__text\"],\n",
    "    \"pros\": [\"div.review-feature__title--positives ~ div.review-feature__item\", None, True],\n",
    "    \"cons\": [\"div.review-feature__title--negatives ~ div.review-feature__item\", None, True],\n",
    "    \"helpful\": [\"button.vote-yes > span\"],\n",
    "    \"unhelpful\": [\"button.vote-no > span\"],\n",
    "    \"publish_date\": [\"span.user-post__published > time:nth-child(2)\", \"datetime\"],\n",
    "    \"purchase_date\": [\"span.user-post__published > time:nth-child(1)\", \"datetime\"],\n",
    "}\n"
   ]
  },
  {
   "cell_type": "markdown",
   "metadata": {},
   "source": [
    "## Transformations"
   ]
  },
  {
   "cell_type": "code",
   "execution_count": 22,
   "metadata": {},
   "outputs": [],
   "source": [
    "transformations = {\n",
    "    \"recommendation\": recommend,\n",
    "    \"score\": rate,\n",
    "    \"helpful\": int,\n",
    "    \"unhelpful\": int,\n",
    "    \"content\": translate,\n",
    "    \"pros\": translate,\n",
    "    \"cons\": translate,\n",
    "}"
   ]
  },
  {
   "cell_type": "markdown",
   "metadata": {},
   "source": [
    "## URL address for first page with opinions about product"
   ]
  },
  {
   "cell_type": "code",
   "execution_count": 23,
   "metadata": {},
   "outputs": [],
   "source": [
    "product_id = \"13029872\"\n",
    "url = f\"https://www.ceneo.pl/{product_id}#tab=reviews\""
   ]
  },
  {
   "cell_type": "markdown",
   "metadata": {},
   "source": [
    "## Extracting all opinions about product from HTML code"
   ]
  },
  {
   "cell_type": "code",
   "execution_count": 24,
   "metadata": {},
   "outputs": [
    {
     "name": "stdout",
     "output_type": "stream",
     "text": [
      "https://www.ceneo.pl/13029872#tab=reviews\n",
      "https://www.ceneo.pl/13029872/opinie-2\n",
      "https://www.ceneo.pl/13029872/opinie-3\n",
      "https://www.ceneo.pl/13029872/opinie-4\n",
      "https://www.ceneo.pl/13029872/opinie-5\n",
      "https://www.ceneo.pl/13029872/opinie-6\n",
      "https://www.ceneo.pl/13029872/opinie-7\n"
     ]
    }
   ],
   "source": [
    "ua = UserAgent()\n",
    "headers = {'User-Agent':str(ua.random)}\n",
    "all_opinions = []\n",
    "while(url):\n",
    "    print(url)\n",
    "    response = requests.get(url, headers=headers)\n",
    "    page_dom = BeautifulSoup(response.text, \"html.parser\")\n",
    "    opinions = page_dom.select(\"div.js_product-review\")\n",
    "    for opinion in opinions:\n",
    "        single_opinion = {\n",
    "            key: extract(opinion, *value) \n",
    "                for key, value in selectors.items()\n",
    "        }\n",
    "        for key, value in transformations.items():\n",
    "            single_opinion[key] = value(single_opinion[key])\n",
    "        all_opinions.append(single_opinion)\n",
    "    try:\n",
    "        url = \"https://www.ceneo.pl\"+extract(page_dom, \"a.pagination__next\", \"href\")\n",
    "    except TypeError:\n",
    "        url = None"
   ]
  },
  {
   "cell_type": "markdown",
   "metadata": {},
   "source": [
    "## Saving all opinions to JSON file"
   ]
  },
  {
   "cell_type": "code",
   "execution_count": 25,
   "metadata": {},
   "outputs": [],
   "source": [
    "if not os.path.exists(\"opinions\"):\n",
    "    os.mkdir(\"opinions\")\n",
    "jf = open(f\"opinions/{product_id}.json\", \"w\", encoding=\"UTF-8\")\n",
    "json.dump(all_opinions, jf, indent=4, ensure_ascii=False)\n",
    "jf.close()"
   ]
  }
 ],
 "metadata": {
  "kernelspec": {
   "display_name": ".venv",
   "language": "python",
   "name": "python3"
  },
  "language_info": {
   "codemirror_mode": {
    "name": "ipython",
    "version": 3
   },
   "file_extension": ".py",
   "mimetype": "text/x-python",
   "name": "python",
   "nbconvert_exporter": "python",
   "pygments_lexer": "ipython3",
   "version": "3.11.4"
  },
  "orig_nbformat": 4
 },
 "nbformat": 4,
 "nbformat_minor": 2
}
