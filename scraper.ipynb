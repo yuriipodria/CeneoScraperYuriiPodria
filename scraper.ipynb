{
 "cells": [
  {
   "attachments": {},
   "cell_type": "markdown",
   "metadata": {},
   "source": [
    "# Ceno scraper"
   ]
  },
  {
   "attachments": {},
   "cell_type": "markdown",
   "metadata": {},
   "source": [
    "## Loading libraries "
   ]
  },
  {
   "cell_type": "code",
   "execution_count": null,
   "metadata": {},
   "outputs": [],
   "source": [
    "import requests\n",
    "from bs4 import BeautifulSoup"
   ]
  },
  {
   "attachments": {},
   "cell_type": "markdown",
   "metadata": {},
   "source": [
    "## Sending requests to Cemeo.pl server"
   ]
  },
  {
   "cell_type": "code",
   "execution_count": null,
   "metadata": {},
   "outputs": [],
   "source": [
    "product_id = \"136115744\"\n",
    "url = f\"https://www.ceneo.pl/{product_id}#tab=reviews\"\n",
    "response = requests.get(url)\n",
    "print( type(response.text) )"
   ]
  },
  {
   "cell_type": "code",
   "execution_count": null,
   "metadata": {},
   "outputs": [],
   "source": [
    "page_dom = BeautifulSoup(response.text, \"html.parser\")\n",
    "opinions = page_dom.select(\"div.js_product-review\")\n",
    "opinion = page_dom.select_one(\"div.js_product-review\")\n",
    "print(type(page_dom))\n",
    "print(type(opinions))\n",
    "print(type(opinion))\n",
    "print(opinion)"
   ]
  },
  {
   "attachments": {},
   "cell_type": "markdown",
   "metadata": {},
   "source": [
    "## Extraction of components of single opinion\n",
    "|Component|Selector|Variable|\n",
    "|---------|--------|--------|\n",
    "| opinion ID | [\"data-entry-id\"] | opinion_id |\n",
    "| opinion’s author | span.user-post__author-name | author |\n",
    "| author’s recommendation | span.user-post__author-recomendation > em | recommendation |\n",
    "| score expressed in number of stars | span.user-post__score-count | score |\n",
    "| opinion’s content | div.user-post__text | content |\n",
    "| list of product advantages | div.review-feature__title--positives ~ div.review-feature__item | pros |\n",
    "| list of product disadvantages | div.review-feature__title--negatives ~ div.review-feature__item | cons |\n",
    "| how many users think that opinion was helpful | span[vote-yes^=\"votes-yes\"] | helpful |\n",
    "| how many users think that opinion was unhelpful | span[vote-no^=\"votes-no\"] | unhelpful |\n",
    "| publishing date | span.user-post__published > time:nth-child(1)[\"datetime\"] |publish_date|\n",
    "| purchase date | span.user-post__published > time:nth-child(2)[\"datetime\"] |purchase_date|"
   ]
  }
 ],
 "metadata": {
  "kernelspec": {
   "display_name": ".venv",
   "language": "python",
   "name": "python3"
  },
  "language_info": {
   "codemirror_mode": {
    "name": "ipython",
    "version": 3
   },
   "file_extension": ".py",
   "mimetype": "text/x-python",
   "name": "python",
   "nbconvert_exporter": "python",
   "pygments_lexer": "ipython3",
   "version": "3.11.4"
  },
  "orig_nbformat": 4
 },
 "nbformat": 4,
 "nbformat_minor": 2
}
