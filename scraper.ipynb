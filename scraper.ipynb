{
 "cells": [
  {
   "attachments": {},
   "cell_type": "markdown",
   "metadata": {},
   "source": [
    "# Ceno scraper"
   ]
  },
  {
   "attachments": {},
   "cell_type": "markdown",
   "metadata": {},
   "source": [
    "## Components of single opinion\n",
    "|Component|Selector|Variable|\n",
    "|---------|--------|--------|\n",
    "| opinion ID | [\"data-entry-id\"] | opinion_id |\n",
    "| opinion’s author | span.user-post__author-name | author |\n",
    "| author’s recommendation | span.user-post__author-recomendation > em | recommendation |\n",
    "| score expressed in number of stars | span.user-post__score-count | score |\n",
    "| opinion’s content | div.user-post__text | content |\n",
    "| list of product advantages | div.review-feature__title--positives ~ div.review-feature__item | pros |\n",
    "| list of product disadvantages | div.review-feature__title--negatives ~ div.review-feature__item | cons |\n",
    "| how many users think that opinion was helpful | span[vote-yes^=\"votes-yes\"] | helpful |\n",
    "| how many users think that opinion was unhelpful | span[vote-no^=\"votes-no\"] | unhelpful |\n",
    "| publishing date | span.user-post__published > time:nth-child(1) | publish_date |\n",
    "| purchase date | span.user-post__published > time:nth-child(2) | purchase_date |"
   ]
  },
  {
   "attachments": {},
   "cell_type": "markdown",
   "metadata": {},
   "source": [
    "## Structure of single opinion"
   ]
  },
  {
   "cell_type": "code",
   "execution_count": 66,
   "metadata": {},
   "outputs": [],
   "source": [
    "selectors = {\n",
    "    \"opinion_id\": [None, \"data-entry-id\"],\n",
    "    \"author\": [\"span.user-post__author-name\"],\n",
    "    \"recommendation\": [\"span.user-post__author-recomendation > em\"],\n",
    "    \"score\": [\"span.user-post__score-count\"],\n",
    "    \"content\": [\"div.user-post__text\"],\n",
    "    \"pros\": [\"div.review-feature__title--positives ~ div.review-feature__item\", None, True],\n",
    "    \"cons\": [\"div.review-feature__title--negatives ~ div.review-feature__item\", None, True],\n",
    "    \"helpful\": [\"button.vote-yes > span\"],\n",
    "    \"unhelpful\": [\"button.vote-no > span\"],\n",
    "    \"publish_date\": [\"span.user-post__published > time:nth-child(2)\", \"datetime\"],\n",
    "    \"purchase_date\": [\"span.user-post__published > time:nth-child(1)\", \"datetime\"],\n",
    "}\n"
   ]
  },
  {
   "attachments": {},
   "cell_type": "markdown",
   "metadata": {},
   "source": [
    "## Loading libraries "
   ]
  },
  {
   "cell_type": "code",
   "execution_count": 67,
   "metadata": {},
   "outputs": [],
   "source": [
    "import requests\n",
    "from bs4 import BeautifulSoup"
   ]
  },
  {
   "attachments": {},
   "cell_type": "markdown",
   "metadata": {},
   "source": [
    "## Function to extract data from HTML code"
   ]
  },
  {
   "cell_type": "code",
   "execution_count": 68,
   "metadata": {},
   "outputs": [],
   "source": [
    "def extract(ancestor, selector, attribute=None, return_list=False):\n",
    "    if return_list:\n",
    "        if attribute:\n",
    "            return [tag[attribute] for tag in ancestor.select(selector)]\n",
    "        return [tag.get_text().strip() for tag in ancestor.select(selector)]\n",
    "\n",
    "    if selector:\n",
    "        if attribute:\n",
    "            try:\n",
    "                return ancestor.select_one(selector)[attribute]\n",
    "            except TypeError:\n",
    "                return None\n",
    "        try:\n",
    "            return ancestor.select_one(selector).get_text().strip()\n",
    "        except AttributeError:\n",
    "            return None\n",
    "    \n",
    "    if attribute:\n",
    "        return ancestor[attribute]\n",
    "    return ancestor.get_text().strip()"
   ]
  },
  {
   "attachments": {},
   "cell_type": "markdown",
   "metadata": {},
   "source": [
    "## Sending requests to Cemeo.pl server"
   ]
  },
  {
   "cell_type": "code",
   "execution_count": 69,
   "metadata": {},
   "outputs": [],
   "source": [
    "product_id = \"136115744\"\n",
    "url = f\"https://www.ceneo.pl/{product_id}#tab=reviews\"\n",
    "response = requests.get(url)"
   ]
  },
  {
   "attachments": {},
   "cell_type": "markdown",
   "metadata": {},
   "source": [
    "## Extracting components of HTML code"
   ]
  },
  {
   "cell_type": "code",
   "execution_count": 70,
   "metadata": {},
   "outputs": [],
   "source": [
    "page_dom = BeautifulSoup(response.text, \"html.parser\")\n",
    "opinions = page_dom.select(\"div.js_product-review\")\n",
    "opinion = page_dom.select_one(\"div.js_product-review\")"
   ]
  },
  {
   "attachments": {},
   "cell_type": "markdown",
   "metadata": {},
   "source": [
    "## Extracting components for single opinion"
   ]
  },
  {
   "cell_type": "code",
   "execution_count": 71,
   "metadata": {},
   "outputs": [],
   "source": [
    "single_opinions = {\n",
    "    key: extract(opinion, *value)\n",
    "        for key, value in selectors.items()\n",
    "}"
   ]
  }
 ],
 "metadata": {
  "kernelspec": {
   "display_name": ".venv",
   "language": "python",
   "name": "python3"
  },
  "language_info": {
   "codemirror_mode": {
    "name": "ipython",
    "version": 3
   },
   "file_extension": ".py",
   "mimetype": "text/x-python",
   "name": "python",
   "nbconvert_exporter": "python",
   "pygments_lexer": "ipython3",
   "version": "3.11.4"
  },
  "orig_nbformat": 4
 },
 "nbformat": 4,
 "nbformat_minor": 2
}
