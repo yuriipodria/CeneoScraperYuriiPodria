{
 "cells": [
  {
   "cell_type": "markdown",
   "metadata": {},
   "source": [
    "# Ceneo analyzer"
   ]
  },
  {
   "cell_type": "markdown",
   "metadata": {},
   "source": [
    "## Loading libraries"
   ]
  },
  {
   "cell_type": "code",
   "execution_count": 179,
   "metadata": {},
   "outputs": [],
   "source": [
    "import os\n",
    "import pandas as pd\n",
    "import numpy as np\n",
    "from matplotlib import pyplot as plt"
   ]
  },
  {
   "cell_type": "markdown",
   "metadata": {},
   "source": [
    "## Listing codes for all products for which opinions have been extracted"
   ]
  },
  {
   "cell_type": "code",
   "execution_count": 180,
   "metadata": {},
   "outputs": [
    {
     "name": "stdout",
     "output_type": "stream",
     "text": [
      "13029872\n"
     ]
    }
   ],
   "source": [
    "if os.path.exists(\"opinions\"):\n",
    "    print(*[filename.split(\".\")[0] for filename in os.listdir(\"opinions\")], sep=\"\\n\")"
   ]
  },
  {
   "cell_type": "markdown",
   "metadata": {},
   "source": [
    "## Specifying opinions about which product are to be analyzed"
   ]
  },
  {
   "cell_type": "code",
   "execution_count": 181,
   "metadata": {},
   "outputs": [],
   "source": [
    "product_id = input(\"Please provide Ceneo.pl product code: \")"
   ]
  },
  {
   "cell_type": "markdown",
   "metadata": {},
   "source": [
    "## Importing opinions from JSON file to pandas.DataFrame object"
   ]
  },
  {
   "cell_type": "code",
   "execution_count": 182,
   "metadata": {},
   "outputs": [],
   "source": [
    "opinions = pd.read_json(f\"opinions/{product_id}.json\")\n",
    "MAX_SCORE = 5\n",
    "opinions.score = opinions.score.apply(lambda s: round(s*MAX_SCORE, 1))"
   ]
  },
  {
   "cell_type": "code",
   "execution_count": 183,
   "metadata": {},
   "outputs": [
    {
     "data": {
      "text/html": [
       "<div>\n",
       "<style scoped>\n",
       "    .dataframe tbody tr th:only-of-type {\n",
       "        vertical-align: middle;\n",
       "    }\n",
       "\n",
       "    .dataframe tbody tr th {\n",
       "        vertical-align: top;\n",
       "    }\n",
       "\n",
       "    .dataframe thead th {\n",
       "        text-align: right;\n",
       "    }\n",
       "</style>\n",
       "<table border=\"1\" class=\"dataframe\">\n",
       "  <thead>\n",
       "    <tr style=\"text-align: right;\">\n",
       "      <th></th>\n",
       "      <th>opinion_id</th>\n",
       "      <th>author</th>\n",
       "      <th>recommendation</th>\n",
       "      <th>score</th>\n",
       "      <th>content</th>\n",
       "      <th>pros</th>\n",
       "      <th>cons</th>\n",
       "      <th>helpful</th>\n",
       "      <th>unhelpful</th>\n",
       "      <th>publish_date</th>\n",
       "      <th>purchase_date</th>\n",
       "    </tr>\n",
       "  </thead>\n",
       "  <tbody>\n",
       "    <tr>\n",
       "      <th>0</th>\n",
       "      <td>14225294</td>\n",
       "      <td>A...k</td>\n",
       "      <td>NaN</td>\n",
       "      <td>3.0</td>\n",
       "      <td>The color does not match the order. It was sup...</td>\n",
       "      <td>[functionality, comfortable]</td>\n",
       "      <td>None</td>\n",
       "      <td>1</td>\n",
       "      <td>2</td>\n",
       "      <td>2021-03-18 19:50:23</td>\n",
       "      <td>2021-04-02 22:28:44</td>\n",
       "    </tr>\n",
       "    <tr>\n",
       "      <th>1</th>\n",
       "      <td>14089388</td>\n",
       "      <td>p...a</td>\n",
       "      <td>1.0</td>\n",
       "      <td>4.0</td>\n",
       "      <td>Quite a nice piece of furniture. Easy to assem...</td>\n",
       "      <td>[functionality, appearance, comfortable, resil...</td>\n",
       "      <td>None</td>\n",
       "      <td>0</td>\n",
       "      <td>1</td>\n",
       "      <td>2021-02-07 13:43:59</td>\n",
       "      <td>2021-03-10 14:00:26</td>\n",
       "    </tr>\n",
       "    <tr>\n",
       "      <th>2</th>\n",
       "      <td>12038573</td>\n",
       "      <td>Użytkownik Ceneo</td>\n",
       "      <td>NaN</td>\n",
       "      <td>3.5</td>\n",
       "      <td>solid workmanship, but the armchair elements a...</td>\n",
       "      <td>None</td>\n",
       "      <td>None</td>\n",
       "      <td>3</td>\n",
       "      <td>2</td>\n",
       "      <td>2020-03-20 17:29:35</td>\n",
       "      <td>2020-04-01 22:29:48</td>\n",
       "    </tr>\n",
       "    <tr>\n",
       "      <th>3</th>\n",
       "      <td>15861753</td>\n",
       "      <td>e...t</td>\n",
       "      <td>1.0</td>\n",
       "      <td>5.0</td>\n",
       "      <td>Very accurate workmanship and easy assembly. T...</td>\n",
       "      <td>[functionality, appearance, comfortable, resil...</td>\n",
       "      <td>None</td>\n",
       "      <td>0</td>\n",
       "      <td>0</td>\n",
       "      <td>2022-03-05 16:46:14</td>\n",
       "      <td>2022-03-23 19:34:15</td>\n",
       "    </tr>\n",
       "    <tr>\n",
       "      <th>4</th>\n",
       "      <td>11521241</td>\n",
       "      <td>Ayla</td>\n",
       "      <td>1.0</td>\n",
       "      <td>5.0</td>\n",
       "      <td>The armchair looks very good in real life, loo...</td>\n",
       "      <td>None</td>\n",
       "      <td>None</td>\n",
       "      <td>0</td>\n",
       "      <td>2</td>\n",
       "      <td>2019-12-13 10:38:44</td>\n",
       "      <td>2020-01-02 16:00:48</td>\n",
       "    </tr>\n",
       "    <tr>\n",
       "      <th>...</th>\n",
       "      <td>...</td>\n",
       "      <td>...</td>\n",
       "      <td>...</td>\n",
       "      <td>...</td>\n",
       "      <td>...</td>\n",
       "      <td>...</td>\n",
       "      <td>...</td>\n",
       "      <td>...</td>\n",
       "      <td>...</td>\n",
       "      <td>...</td>\n",
       "      <td>...</td>\n",
       "    </tr>\n",
       "    <tr>\n",
       "      <th>59</th>\n",
       "      <td>11664642</td>\n",
       "      <td>Użytkownik Ceneo</td>\n",
       "      <td>0.0</td>\n",
       "      <td>2.5</td>\n",
       "      <td>made quite carelessly</td>\n",
       "      <td>None</td>\n",
       "      <td>None</td>\n",
       "      <td>0</td>\n",
       "      <td>1</td>\n",
       "      <td>2020-01-17 10:28:34</td>\n",
       "      <td>2020-01-30 09:56:59</td>\n",
       "    </tr>\n",
       "    <tr>\n",
       "      <th>60</th>\n",
       "      <td>10866165</td>\n",
       "      <td>Użytkownik Ceneo</td>\n",
       "      <td>NaN</td>\n",
       "      <td>5.0</td>\n",
       "      <td>5.0/5</td>\n",
       "      <td>None</td>\n",
       "      <td>None</td>\n",
       "      <td>0</td>\n",
       "      <td>0</td>\n",
       "      <td>None</td>\n",
       "      <td>2019-08-01 23:05:34</td>\n",
       "    </tr>\n",
       "    <tr>\n",
       "      <th>61</th>\n",
       "      <td>6928680</td>\n",
       "      <td>Użytkownik Ceneo</td>\n",
       "      <td>NaN</td>\n",
       "      <td>5.0</td>\n",
       "      <td>5.0/5</td>\n",
       "      <td>None</td>\n",
       "      <td>None</td>\n",
       "      <td>0</td>\n",
       "      <td>0</td>\n",
       "      <td>None</td>\n",
       "      <td>2019-07-31 00:00:00</td>\n",
       "    </tr>\n",
       "    <tr>\n",
       "      <th>62</th>\n",
       "      <td>10673470</td>\n",
       "      <td>Użytkownik Ceneo</td>\n",
       "      <td>NaN</td>\n",
       "      <td>5.0</td>\n",
       "      <td>5.0/5</td>\n",
       "      <td>None</td>\n",
       "      <td>None</td>\n",
       "      <td>0</td>\n",
       "      <td>0</td>\n",
       "      <td>None</td>\n",
       "      <td>2019-06-18 11:57:49</td>\n",
       "    </tr>\n",
       "    <tr>\n",
       "      <th>63</th>\n",
       "      <td>10317517</td>\n",
       "      <td>Użytkownik Ceneo</td>\n",
       "      <td>NaN</td>\n",
       "      <td>5.0</td>\n",
       "      <td>5.0/5</td>\n",
       "      <td>None</td>\n",
       "      <td>None</td>\n",
       "      <td>0</td>\n",
       "      <td>0</td>\n",
       "      <td>None</td>\n",
       "      <td>2019-03-28 19:34:58</td>\n",
       "    </tr>\n",
       "  </tbody>\n",
       "</table>\n",
       "<p>64 rows × 11 columns</p>\n",
       "</div>"
      ],
      "text/plain": [
       "    opinion_id            author  recommendation  score  \\\n",
       "0     14225294             A...k             NaN    3.0   \n",
       "1     14089388             p...a             1.0    4.0   \n",
       "2     12038573  Użytkownik Ceneo             NaN    3.5   \n",
       "3     15861753             e...t             1.0    5.0   \n",
       "4     11521241              Ayla             1.0    5.0   \n",
       "..         ...               ...             ...    ...   \n",
       "59    11664642  Użytkownik Ceneo             0.0    2.5   \n",
       "60    10866165  Użytkownik Ceneo             NaN    5.0   \n",
       "61     6928680  Użytkownik Ceneo             NaN    5.0   \n",
       "62    10673470  Użytkownik Ceneo             NaN    5.0   \n",
       "63    10317517  Użytkownik Ceneo             NaN    5.0   \n",
       "\n",
       "                                              content  \\\n",
       "0   The color does not match the order. It was sup...   \n",
       "1   Quite a nice piece of furniture. Easy to assem...   \n",
       "2   solid workmanship, but the armchair elements a...   \n",
       "3   Very accurate workmanship and easy assembly. T...   \n",
       "4   The armchair looks very good in real life, loo...   \n",
       "..                                                ...   \n",
       "59                              made quite carelessly   \n",
       "60                                              5.0/5   \n",
       "61                                              5.0/5   \n",
       "62                                              5.0/5   \n",
       "63                                              5.0/5   \n",
       "\n",
       "                                                 pros  cons  helpful  \\\n",
       "0                        [functionality, comfortable]  None        1   \n",
       "1   [functionality, appearance, comfortable, resil...  None        0   \n",
       "2                                                None  None        3   \n",
       "3   [functionality, appearance, comfortable, resil...  None        0   \n",
       "4                                                None  None        0   \n",
       "..                                                ...   ...      ...   \n",
       "59                                               None  None        0   \n",
       "60                                               None  None        0   \n",
       "61                                               None  None        0   \n",
       "62                                               None  None        0   \n",
       "63                                               None  None        0   \n",
       "\n",
       "    unhelpful         publish_date        purchase_date  \n",
       "0           2  2021-03-18 19:50:23  2021-04-02 22:28:44  \n",
       "1           1  2021-02-07 13:43:59  2021-03-10 14:00:26  \n",
       "2           2  2020-03-20 17:29:35  2020-04-01 22:29:48  \n",
       "3           0  2022-03-05 16:46:14  2022-03-23 19:34:15  \n",
       "4           2  2019-12-13 10:38:44  2020-01-02 16:00:48  \n",
       "..        ...                  ...                  ...  \n",
       "59          1  2020-01-17 10:28:34  2020-01-30 09:56:59  \n",
       "60          0                 None  2019-08-01 23:05:34  \n",
       "61          0                 None  2019-07-31 00:00:00  \n",
       "62          0                 None  2019-06-18 11:57:49  \n",
       "63          0                 None  2019-03-28 19:34:58  \n",
       "\n",
       "[64 rows x 11 columns]"
      ]
     },
     "execution_count": 183,
     "metadata": {},
     "output_type": "execute_result"
    }
   ],
   "source": [
    "opinions"
   ]
  },
  {
   "cell_type": "markdown",
   "metadata": {},
   "source": [
    "## Basic statistics"
   ]
  },
  {
   "cell_type": "code",
   "execution_count": 184,
   "metadata": {},
   "outputs": [],
   "source": [
    "MAX_SCORE = 5\n",
    "opinions_count = opinions.shape[0]\n",
    "pros_count = opinions.pros.apply(lambda p: None if not p else p).count()\n",
    "cons_count = opinions.cons.apply(lambda p: None if not p else p).count()\n",
    "average_score = opinions.score.mean() * MAX_SCORE   "
   ]
  },
  {
   "cell_type": "code",
   "execution_count": 185,
   "metadata": {},
   "outputs": [
    {
     "data": {
      "text/plain": [
       "64"
      ]
     },
     "execution_count": 185,
     "metadata": {},
     "output_type": "execute_result"
    }
   ],
   "source": [
    "opinions_count"
   ]
  },
  {
   "cell_type": "code",
   "execution_count": 186,
   "metadata": {},
   "outputs": [
    {
     "data": {
      "text/plain": [
       "27"
      ]
     },
     "execution_count": 186,
     "metadata": {},
     "output_type": "execute_result"
    }
   ],
   "source": [
    "pros_count"
   ]
  },
  {
   "cell_type": "code",
   "execution_count": 187,
   "metadata": {},
   "outputs": [
    {
     "data": {
      "text/plain": [
       "6"
      ]
     },
     "execution_count": 187,
     "metadata": {},
     "output_type": "execute_result"
    }
   ],
   "source": [
    "cons_count"
   ]
  },
  {
   "cell_type": "code",
   "execution_count": 188,
   "metadata": {},
   "outputs": [
    {
     "data": {
      "text/plain": [
       "22.1875"
      ]
     },
     "execution_count": 188,
     "metadata": {},
     "output_type": "execute_result"
    }
   ],
   "source": [
    "average_score"
   ]
  },
  {
   "cell_type": "markdown",
   "metadata": {},
   "source": [
    "## Basic charts"
   ]
  },
  {
   "cell_type": "markdown",
   "metadata": {},
   "source": [
    "### Score histogram"
   ]
  },
  {
   "cell_type": "code",
   "execution_count": 189,
   "metadata": {},
   "outputs": [
    {
     "data": {
      "text/plain": [
       "[Text(0, 0, ''),\n",
       " Text(0, 0, ''),\n",
       " Text(0, 0, ''),\n",
       " Text(0, 0, '1'),\n",
       " Text(0, 0, '2'),\n",
       " Text(0, 0, '1'),\n",
       " Text(0, 0, '3'),\n",
       " Text(0, 0, '2'),\n",
       " Text(0, 0, '12'),\n",
       " Text(0, 0, '6'),\n",
       " Text(0, 0, '37')]"
      ]
     },
     "execution_count": 189,
     "metadata": {},
     "output_type": "execute_result"
    },
    {
     "data": {
      "image/png": "[encoded data removed]",
      "text/plain": [
       "<Figure size 640x480 with 1 Axes>"
      ]
     },
     "metadata": {},
     "output_type": "display_data"
    }
   ],
   "source": [
    "score_distribution = opinions.score.value_counts().reindex(np.arange(0, 5.5, 0.5), fill_value = 0)\n",
    "fig, ax = plt.subplots()\n",
    "score_distribution.plot.bar(color = \"darkred\")\n",
    "plt.xlabel(\"Number of stars\")\n",
    "plt.ylabel(\"Number of opinions\")\n",
    "plt.title(f\"Score histogram for {product_id} product\")\n",
    "plt.xticks(rotation = 0)\n",
    "ax.bar_label(ax.containers[0], label_type=\"edge\", fmt = lambda l: int(l) if l else \"\")"
   ]
  },
  {
   "cell_type": "markdown",
   "metadata": {},
   "source": [
    "### Recommendations shares"
   ]
  },
  {
   "cell_type": "code",
   "execution_count": null,
   "metadata": {},
   "outputs": [
    {
     "data": {
      "text/plain": [
       "Text(0.5, 1.0, 'Recommendations shares for 13029872 product')"
      ]
     },
     "execution_count": 207,
     "metadata": {},
     "output_type": "execute_result"
    },
    {
     "data": {
      "image/png": "[encoded data removed]",
      "text/plain": [
       "<Figure size 640x480 with 1 Axes>"
      ]
     },
     "metadata": {},
     "output_type": "display_data"
    }
   ],
   "source": [
    "recommendation_distribution = opinions.recommendation.value_counts(dropna=False).reindex([True, False, np.nan], fill_value = 0)\n",
    "score_distribution = opinions.score.value_counts().reindex(np.arange(0, 5.5, 0.5), )\n",
    "recommendation_distribution.plot.pie(\n",
    "    labels = [\"Recommend\", \"Not recommend\", \"Indifferent\"],\n",
    "    label = \"\",\n",
    "    colors = [\"limegreen\", \"crimson\", \"lightgray\"],\n",
    "    autopct = lambda l: \"(1.1f)%\".format(l) if l else \"\",\n",
    ")\n",
    "plt.title(f\"Recommendations shares for {product_id} product\")"
   ]
  }
 ],
 "metadata": {
  "kernelspec": {
   "display_name": ".venv",
   "language": "python",
   "name": "python3"
  },
  "language_info": {
   "codemirror_mode": {
    "name": "ipython",
    "version": 3
   },
   "file_extension": ".py",
   "mimetype": "text/x-python",
   "name": "python",
   "nbconvert_exporter": "python",
   "pygments_lexer": "ipython3",
   "version": "3.11.4"
  }
 },
 "nbformat": 4,
 "nbformat_minor": 2
}
