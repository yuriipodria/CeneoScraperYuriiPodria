{
 "cells": [
  {
   "cell_type": "markdown",
   "metadata": {},
   "source": [
    "# Ceneo analyzer"
   ]
  },
  {
   "cell_type": "markdown",
   "metadata": {},
   "source": [
    "## Loading libraries"
   ]
  },
  {
   "cell_type": "code",
   "execution_count": 53,
   "metadata": {},
   "outputs": [],
   "source": [
    "import os\n",
    "import pandas as pd\n",
    "from matplotlib import pyplot as plt"
   ]
  },
  {
   "cell_type": "markdown",
   "metadata": {},
   "source": [
    "## Listing codes for all products for which opinions have been extracted"
   ]
  },
  {
   "cell_type": "code",
   "execution_count": 54,
   "metadata": {},
   "outputs": [
    {
     "name": "stdout",
     "output_type": "stream",
     "text": [
      "13029872\n"
     ]
    }
   ],
   "source": [
    "print(*[filename.split(\".\")[0] for filename in os.listdir(\"opinions\")], sep=\"\\n\")"
   ]
  },
  {
   "cell_type": "markdown",
   "metadata": {},
   "source": [
    "## Specifying opinions about which product are to be analyzed"
   ]
  },
  {
   "cell_type": "code",
   "execution_count": 55,
   "metadata": {},
   "outputs": [],
   "source": [
    "product_id = input(\"Please provide Ceneo.pl product code: \")"
   ]
  },
  {
   "cell_type": "markdown",
   "metadata": {},
   "source": [
    "## Importing opinions from JSON file to pandas.DataFrame object"
   ]
  },
  {
   "cell_type": "code",
   "execution_count": 56,
   "metadata": {},
   "outputs": [],
   "source": [
    "opinions = pd.read_json(f\"opinions/{product_id}.json\")"
   ]
  },
  {
   "cell_type": "code",
   "execution_count": 57,
   "metadata": {},
   "outputs": [
    {
     "data": {
      "text/html": [
       "<div>\n",
       "<style scoped>\n",
       "    .dataframe tbody tr th:only-of-type {\n",
       "        vertical-align: middle;\n",
       "    }\n",
       "\n",
       "    .dataframe tbody tr th {\n",
       "        vertical-align: top;\n",
       "    }\n",
       "\n",
       "    .dataframe thead th {\n",
       "        text-align: right;\n",
       "    }\n",
       "</style>\n",
       "<table border=\"1\" class=\"dataframe\">\n",
       "  <thead>\n",
       "    <tr style=\"text-align: right;\">\n",
       "      <th></th>\n",
       "      <th>opinion_id</th>\n",
       "      <th>author</th>\n",
       "      <th>recommendation</th>\n",
       "      <th>score</th>\n",
       "      <th>content</th>\n",
       "      <th>pros</th>\n",
       "      <th>cons</th>\n",
       "      <th>helpful</th>\n",
       "      <th>unhelpful</th>\n",
       "      <th>publish_date</th>\n",
       "      <th>purchase_date</th>\n",
       "    </tr>\n",
       "  </thead>\n",
       "  <tbody>\n",
       "    <tr>\n",
       "      <th>0</th>\n",
       "      <td>14225294</td>\n",
       "      <td>A...k</td>\n",
       "      <td>NaN</td>\n",
       "      <td>0.6</td>\n",
       "      <td>The color does not match the order. It was sup...</td>\n",
       "      <td>[functionality, comfortable]</td>\n",
       "      <td>None</td>\n",
       "      <td>1</td>\n",
       "      <td>2</td>\n",
       "      <td>2021-03-18 19:50:23</td>\n",
       "      <td>2021-04-02 22:28:44</td>\n",
       "    </tr>\n",
       "    <tr>\n",
       "      <th>1</th>\n",
       "      <td>14089388</td>\n",
       "      <td>p...a</td>\n",
       "      <td>1.0</td>\n",
       "      <td>0.8</td>\n",
       "      <td>Quite a nice piece of furniture. Easy to assem...</td>\n",
       "      <td>[functionality, appearance, comfortable, resil...</td>\n",
       "      <td>None</td>\n",
       "      <td>0</td>\n",
       "      <td>1</td>\n",
       "      <td>2021-02-07 13:43:59</td>\n",
       "      <td>2021-03-10 14:00:26</td>\n",
       "    </tr>\n",
       "    <tr>\n",
       "      <th>2</th>\n",
       "      <td>12038573</td>\n",
       "      <td>Użytkownik Ceneo</td>\n",
       "      <td>NaN</td>\n",
       "      <td>0.7</td>\n",
       "      <td>solid workmanship, but the elements of the arm...</td>\n",
       "      <td>None</td>\n",
       "      <td>None</td>\n",
       "      <td>3</td>\n",
       "      <td>2</td>\n",
       "      <td>2020-03-20 17:29:35</td>\n",
       "      <td>2020-04-01 22:29:48</td>\n",
       "    </tr>\n",
       "    <tr>\n",
       "      <th>3</th>\n",
       "      <td>15861753</td>\n",
       "      <td>e...t</td>\n",
       "      <td>1.0</td>\n",
       "      <td>1.0</td>\n",
       "      <td>Very accurate workmanship and easy assembly. T...</td>\n",
       "      <td>[functionality, appearance, comfortable, resil...</td>\n",
       "      <td>None</td>\n",
       "      <td>0</td>\n",
       "      <td>0</td>\n",
       "      <td>2022-03-05 16:46:14</td>\n",
       "      <td>2022-03-23 19:34:15</td>\n",
       "    </tr>\n",
       "    <tr>\n",
       "      <th>4</th>\n",
       "      <td>11521241</td>\n",
       "      <td>Ayla</td>\n",
       "      <td>1.0</td>\n",
       "      <td>1.0</td>\n",
       "      <td>The armchair looks very good in real life, loo...</td>\n",
       "      <td>None</td>\n",
       "      <td>None</td>\n",
       "      <td>0</td>\n",
       "      <td>2</td>\n",
       "      <td>2019-12-13 10:38:44</td>\n",
       "      <td>2020-01-02 16:00:48</td>\n",
       "    </tr>\n",
       "    <tr>\n",
       "      <th>5</th>\n",
       "      <td>11470206</td>\n",
       "      <td>Użytkownik Ceneo</td>\n",
       "      <td>1.0</td>\n",
       "      <td>0.9</td>\n",
       "      <td>Very nice and comfortable armchair. Warms up t...</td>\n",
       "      <td>[large tilt angle, functionality, not accurate...</td>\n",
       "      <td>None</td>\n",
       "      <td>0</td>\n",
       "      <td>0</td>\n",
       "      <td>2019-11-20 20:45:13</td>\n",
       "      <td>2019-12-21 18:23:25</td>\n",
       "    </tr>\n",
       "    <tr>\n",
       "      <th>6</th>\n",
       "      <td>11210924</td>\n",
       "      <td>Ewa</td>\n",
       "      <td>1.0</td>\n",
       "      <td>0.8</td>\n",
       "      <td>Currently, I cannot evaluate the seats because...</td>\n",
       "      <td>[functionality, appearance]</td>\n",
       "      <td>None</td>\n",
       "      <td>0</td>\n",
       "      <td>4</td>\n",
       "      <td>2019-10-05 14:08:28</td>\n",
       "      <td>2019-10-29 08:42:13</td>\n",
       "    </tr>\n",
       "    <tr>\n",
       "      <th>7</th>\n",
       "      <td>10831402</td>\n",
       "      <td>Łasica</td>\n",
       "      <td>1.0</td>\n",
       "      <td>0.8</td>\n",
       "      <td>Some elements not fully painted. Poor quality ...</td>\n",
       "      <td>None</td>\n",
       "      <td>None</td>\n",
       "      <td>0</td>\n",
       "      <td>2</td>\n",
       "      <td>2019-07-17 19:36:31</td>\n",
       "      <td>2019-07-25 10:39:09</td>\n",
       "    </tr>\n",
       "    <tr>\n",
       "      <th>8</th>\n",
       "      <td>13962086</td>\n",
       "      <td>a...0</td>\n",
       "      <td>0.0</td>\n",
       "      <td>0.4</td>\n",
       "      <td>The price of the armchair does not correspond ...</td>\n",
       "      <td>[functionality, fear of capsizing, appearance,...</td>\n",
       "      <td>[not accurate and not clear instructions, I do...</td>\n",
       "      <td>1</td>\n",
       "      <td>1</td>\n",
       "      <td>2021-01-28 18:40:12</td>\n",
       "      <td>2021-02-16 09:55:21</td>\n",
       "    </tr>\n",
       "    <tr>\n",
       "      <th>9</th>\n",
       "      <td>18511128</td>\n",
       "      <td>j...p</td>\n",
       "      <td>0.0</td>\n",
       "      <td>0.4</td>\n",
       "      <td>Hello !!! In general, it should be ***** not c...</td>\n",
       "      <td>None</td>\n",
       "      <td>None</td>\n",
       "      <td>0</td>\n",
       "      <td>0</td>\n",
       "      <td>2024-03-15 23:15:20</td>\n",
       "      <td>2024-03-21 08:05:07</td>\n",
       "    </tr>\n",
       "  </tbody>\n",
       "</table>\n",
       "</div>"
      ],
      "text/plain": [
       "   opinion_id            author  recommendation  score  \\\n",
       "0    14225294             A...k             NaN    0.6   \n",
       "1    14089388             p...a             1.0    0.8   \n",
       "2    12038573  Użytkownik Ceneo             NaN    0.7   \n",
       "3    15861753             e...t             1.0    1.0   \n",
       "4    11521241              Ayla             1.0    1.0   \n",
       "5    11470206  Użytkownik Ceneo             1.0    0.9   \n",
       "6    11210924               Ewa             1.0    0.8   \n",
       "7    10831402            Łasica             1.0    0.8   \n",
       "8    13962086             a...0             0.0    0.4   \n",
       "9    18511128             j...p             0.0    0.4   \n",
       "\n",
       "                                             content  \\\n",
       "0  The color does not match the order. It was sup...   \n",
       "1  Quite a nice piece of furniture. Easy to assem...   \n",
       "2  solid workmanship, but the elements of the arm...   \n",
       "3  Very accurate workmanship and easy assembly. T...   \n",
       "4  The armchair looks very good in real life, loo...   \n",
       "5  Very nice and comfortable armchair. Warms up t...   \n",
       "6  Currently, I cannot evaluate the seats because...   \n",
       "7  Some elements not fully painted. Poor quality ...   \n",
       "8  The price of the armchair does not correspond ...   \n",
       "9  Hello !!! In general, it should be ***** not c...   \n",
       "\n",
       "                                                pros  \\\n",
       "0                       [functionality, comfortable]   \n",
       "1  [functionality, appearance, comfortable, resil...   \n",
       "2                                               None   \n",
       "3  [functionality, appearance, comfortable, resil...   \n",
       "4                                               None   \n",
       "5  [large tilt angle, functionality, not accurate...   \n",
       "6                        [functionality, appearance]   \n",
       "7                                               None   \n",
       "8  [functionality, fear of capsizing, appearance,...   \n",
       "9                                               None   \n",
       "\n",
       "                                                cons  helpful  unhelpful  \\\n",
       "0                                               None        1          2   \n",
       "1                                               None        0          1   \n",
       "2                                               None        3          2   \n",
       "3                                               None        0          0   \n",
       "4                                               None        0          2   \n",
       "5                                               None        0          0   \n",
       "6                                               None        0          4   \n",
       "7                                               None        0          2   \n",
       "8  [not accurate and not clear instructions, I do...        1          1   \n",
       "9                                               None        0          0   \n",
       "\n",
       "          publish_date        purchase_date  \n",
       "0  2021-03-18 19:50:23  2021-04-02 22:28:44  \n",
       "1  2021-02-07 13:43:59  2021-03-10 14:00:26  \n",
       "2  2020-03-20 17:29:35  2020-04-01 22:29:48  \n",
       "3  2022-03-05 16:46:14  2022-03-23 19:34:15  \n",
       "4  2019-12-13 10:38:44  2020-01-02 16:00:48  \n",
       "5  2019-11-20 20:45:13  2019-12-21 18:23:25  \n",
       "6  2019-10-05 14:08:28  2019-10-29 08:42:13  \n",
       "7  2019-07-17 19:36:31  2019-07-25 10:39:09  \n",
       "8  2021-01-28 18:40:12  2021-02-16 09:55:21  \n",
       "9  2024-03-15 23:15:20  2024-03-21 08:05:07  "
      ]
     },
     "execution_count": 57,
     "metadata": {},
     "output_type": "execute_result"
    }
   ],
   "source": [
    "opinions"
   ]
  },
  {
   "cell_type": "markdown",
   "metadata": {},
   "source": [
    "## Basic statistics"
   ]
  },
  {
   "cell_type": "code",
   "execution_count": 58,
   "metadata": {},
   "outputs": [],
   "source": [
    "MAX_SCORE = 5\n",
    "opinions_count = opinions.shape[0]\n",
    "pros_count = opinions.pros.apply(lambda p: None if not p else p).count()\n",
    "cons_count = opinions.cons.apply(lambda p: None if not p else p).count()\n",
    "average_score = opinions.score.mean() * MAX_SCORE   "
   ]
  },
  {
   "cell_type": "code",
   "execution_count": 59,
   "metadata": {},
   "outputs": [
    {
     "data": {
      "text/plain": [
       "10"
      ]
     },
     "execution_count": 59,
     "metadata": {},
     "output_type": "execute_result"
    }
   ],
   "source": [
    "opinions_count"
   ]
  },
  {
   "cell_type": "code",
   "execution_count": 60,
   "metadata": {},
   "outputs": [
    {
     "data": {
      "text/plain": [
       "6"
      ]
     },
     "execution_count": 60,
     "metadata": {},
     "output_type": "execute_result"
    }
   ],
   "source": [
    "pros_count"
   ]
  },
  {
   "cell_type": "code",
   "execution_count": 61,
   "metadata": {},
   "outputs": [
    {
     "data": {
      "text/plain": [
       "1"
      ]
     },
     "execution_count": 61,
     "metadata": {},
     "output_type": "execute_result"
    }
   ],
   "source": [
    "cons_count"
   ]
  },
  {
   "cell_type": "code",
   "execution_count": 62,
   "metadata": {},
   "outputs": [
    {
     "data": {
      "text/plain": [
       "3.7000000000000006"
      ]
     },
     "execution_count": 62,
     "metadata": {},
     "output_type": "execute_result"
    }
   ],
   "source": [
    "average_score"
   ]
  },
  {
   "cell_type": "markdown",
   "metadata": {},
   "source": [
    "## Basic charts"
   ]
  },
  {
   "cell_type": "markdown",
   "metadata": {},
   "source": [
    "### Score histogram"
   ]
  },
  {
   "cell_type": "code",
   "execution_count": 64,
   "metadata": {},
   "outputs": [
    {
     "data": {
      "text/plain": [
       "<Axes: xlabel='score'>"
      ]
     },
     "execution_count": 64,
     "metadata": {},
     "output_type": "execute_result"
    },
    {
     "data": {
      "image/png": "[encoded data removed]",
      "text/plain": [
       "<Figure size 640x480 with 1 Axes>"
      ]
     },
     "metadata": {},
     "output_type": "display_data"
    }
   ],
   "source": [
    "score_distribution = opinions.score.value_counts()\n",
    "score_distribution.plot.bar()"
   ]
  }
 ],
 "metadata": {
  "kernelspec": {
   "display_name": ".venv",
   "language": "python",
   "name": "python3"
  },
  "language_info": {
   "codemirror_mode": {
    "name": "ipython",
    "version": 3
   },
   "file_extension": ".py",
   "mimetype": "text/x-python",
   "name": "python",
   "nbconvert_exporter": "python",
   "pygments_lexer": "ipython3",
   "version": "3.11.4"
  }
 },
 "nbformat": 4,
 "nbformat_minor": 2
}
